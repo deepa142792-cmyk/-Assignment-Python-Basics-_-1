{
  "nbformat": 4,
  "nbformat_minor": 0,
  "metadata": {
    "colab": {
      "provenance": []
    },
    "kernelspec": {
      "name": "python3",
      "display_name": "Python 3"
    },
    "language_info": {
      "name": "python"
    }
  },
  "cells": [
    {
      "cell_type": "code",
      "execution_count": null,
      "metadata": {
        "id": "BDEXtc0J_yfu"
      },
      "outputs": [],
      "source": []
    },
    {
      "cell_type": "markdown",
      "source": [
        "#Python Basics\n"
      ],
      "metadata": {
        "id": "bz7yBqOTQlFd"
      }
    },
    {
      "cell_type": "markdown",
      "source": [],
      "metadata": {
        "id": "l1D5dREkBkhS"
      }
    },
    {
      "cell_type": "markdown",
      "source": [
        "1.  What is Python, and why is it popular?\n",
        "\n",
        "     -  Python is a programming language — kind of like English for computers. It lets us give instructions to a computer in a way that’s much easier to read and write compared to older or more complex languages like C++ or Java.\n",
        "\n",
        "Now, about its popularity:\n",
        "\n",
        "-   It’s easy to learn → the syntax looks almost like plain English.\n",
        "\n",
        "-    It’s versatile → you can use it for web development, data science, automation, artificial intelligence, machine learning, app development, and even games.\n",
        "\n",
        "-    It has a huge community → which means tons of libraries (pre-written code) and lots of help available.\n",
        "\n",
        "-   Companies like Google, Instagram, Netflix, and Spotify use Python every day.\n",
        "\n",
        "\n",
        "\n",
        " 2. What is an interpreter in Python?\n",
        "\n",
        "    - Python interpreter as a translator.\n",
        "\n",
        "-   Humans write Python code in a .py file.\n",
        "\n",
        "-    But the computer doesn’t understand Python directly — it only understands machine code (1s and 0s).\n",
        "\n",
        "-  The interpreter takes your Python code and translates it line by line into something the computer can execute immediately.\n",
        "\n",
        "-  That’s why, when you run a Python program, you can often see errors right away on the exact line that failed — because the interpreter was working step by step.\n",
        "\n",
        "\n",
        "3. What are pre-defined keywords in Python?\n",
        "\n",
        "   - Pre-defined keywords in Python are special reserved words that already have a fixed meaning in the language.\n",
        "\n",
        "-  They are like the grammar rules of Python.\n",
        "\n",
        "-  You can’t use them as variable names, function names, or identifiers.\n",
        "\n",
        "- Example: if, else, for, while, def, class, True, False, None, etc.\n",
        "\n",
        "Python has around 35 keywords (depending on the version), and they cover things like decision-making, loops, data types, and functions.\n",
        "\n",
        "\n",
        " 4. Can keywords be used as variable name?\n",
        "\n",
        "    - No — keywords cannot be used as variable names in Python.\n",
        "Because:\n",
        "\n",
        "-  Keywords already have a special meaning in the language.\n",
        "\n",
        "- If you try to reuse them as variables, Python gets confused: “Is this the keyword I know, or your variable?”\n",
        "\n",
        "- So it throws an error.\n",
        "\n",
        "\n",
        "5. What is mutability in Python?\n",
        "\n",
        "   - Mutability means: can the value of an object be changed after it’s created?\n",
        "\n",
        "- Mutable objects → their contents can be changed without creating a new object.\n",
        "Examples: list, dict, set\n",
        "\n",
        "nums = [1, 2, 3]\n",
        "nums[0] = 10   # ✅ allowed, list is mutable\n",
        "print(nums)    # [10, 2, 3]\n",
        "\n",
        "\n",
        "\n",
        " 6. Why are lists mutable, but tuples are immutable?\n",
        "\n",
        "    - Lists are designed to be flexible containers.\n",
        "\n",
        "- You might need to add, remove, or update elements often.\n",
        "\n",
        "- So Python makes them mutable for convenience.\n",
        "\n",
        "- Tuples, on the other hand, are designed for fixed collections.\n",
        "\n",
        "- Once created, they’re meant to stay the same.\n",
        "\n",
        "- Because they’re immutable, they’re faster, use less memory, and can even be used as keys in dictionaries (lists can’t).\n",
        "\n",
        " - So it’s really about purpose:\n",
        "\n",
        "List = editable notebook.\n",
        "\n",
        "Tuple = locked diary page.\n",
        "\n",
        "7. What is the difference between “==” and “is” operators in Python?\n",
        "\n",
        "   - == (equality operator) → checks whether the values of two objects are the same.\n",
        "\n",
        "    - is (identity operator) → checks whether two variables actually point to the same object in memory.\n",
        "\n",
        "\n",
        "8. What are logical operators in Python?\n",
        "\n",
        "    - Logical operators in Python are used to combine or compare conditions (expressions that are either True or False). There are three of them:\n",
        "\n",
        "-  and → returns True only if both conditions are true.\n",
        "\n",
        "print(5 > 2 and 10 > 3)   # True\n",
        "print(5 > 2 and 1 > 3)    # False\n",
        "\n",
        "\n",
        "-  or → returns True if at least one condition is true.\n",
        "\n",
        "print(5 > 2 or 1 > 3)     # True\n",
        "print(1 > 5 or 2 > 10)    # False\n",
        "\n",
        "\n",
        "- not → flips the value (True → False, False → True).\n",
        "\n",
        "print(not (5 > 2))        # False\n",
        "\n",
        "\n",
        "9. What is type casting in Python?\n",
        "\n",
        "    - Type casting in Python means converting one data type into another.\n",
        "\n",
        "Sometimes you need to change the “form” of data so it works in calculations or comparisons.\n",
        "\n",
        "For example:\n",
        "\n",
        "# int → float\n",
        "x = 5\n",
        "y = float(x)\n",
        "print(y)   # 5.0\n",
        "\n",
        "# float → int\n",
        "a = 9.8\n",
        "b = int(a)\n",
        "print(b)   # 9\n",
        "\n",
        "# string → int\n",
        "num = \"100\"\n",
        "print(int(num) + 5)   # 105\n",
        "\n",
        "\n",
        "There are two main kinds:\n",
        "\n",
        "Implicit casting (type conversion) → Python does it automatically.\n",
        "\n",
        "print(3 + 4.5)   # 7.5 (int 3 automatically cast to float 3.0)\n",
        "\n",
        "\n",
        "Explicit casting (type casting) → You do it manually with functions like int(), float(), str().\n",
        "\n",
        "\n",
        "10. What is the difference between implicit and explicit type casting?\n",
        "\n",
        "    - 1. Implicit type casting (a.k.a. type conversion)\n",
        "\n",
        "- Done automatically by Python.\n",
        "\n",
        "- Usually happens when mixing types in an expression.\n",
        "\n",
        "- Python “upgrades” the smaller/less precise type to the bigger/more precise one to avoid data loss.\n",
        "\n",
        "- Example:\n",
        "\n",
        "x = 5      # int\n",
        "y = 2.5    # float\n",
        "z = x + y  # int + float → float\n",
        "print(z)   # 7.5\n",
        "\n",
        "\n",
        "Here, Python converts 5 into 5.0 behind the scenes.\n",
        "\n",
        "2. Explicit type casting\n",
        "\n",
        "- Done manually by the programmer.\n",
        "\n",
        "- You use functions like int(), float(), str(), list(), etc.\n",
        "\n",
        "- Useful when you know how you want the data to behave.\n",
        "\n",
        "- Example:\n",
        "\n",
        "num = \"100\"      # string\n",
        "val = int(num)   # explicit cast\n",
        "print(val + 5)   # 105\n",
        "\n",
        "11. What is the purpose of conditional statements in Python?\n",
        "\n",
        "    - Conditional statements let Python decide which block of code to run based on whether a condition is True or False.\n",
        "\n",
        "- Without them, a program would just run top to bottom, the same way every time.\n",
        "-  With them, the program becomes dynamic — it can react to different situations.\n",
        "\n",
        "- Example:\n",
        "\n",
        "age = 18\n",
        "\n",
        "if age >= 18:\n",
        "    print(\"You can vote\")       # runs if condition is True\n",
        "else:\n",
        "    print(\"You cannot vote\")    # runs if condition is False\n",
        "\n",
        "\n",
        "Here, the program chooses what to do depending on the value of age.\n",
        "\n",
        "12. How does the elif statement work?\n",
        "\n",
        "    - elif stands for “else if”.\n",
        "\n",
        "- It’s used when you want to check multiple conditions in sequence.\n",
        "\n",
        "- Python checks them top to bottom:\n",
        "\n",
        "-     If the first if is True → it runs that block, then skips the rest.\n",
        "\n",
        "-     If not, it checks the next elif.\n",
        "\n",
        "-     If none are True, it goes to the final else (if present).\n",
        "\n",
        "- Example:\n",
        "\n",
        "marks = 75\n",
        "\n",
        "if marks >= 90:\n",
        "    print(\"Grade A\")\n",
        "elif marks >= 75:\n",
        "    print(\"Grade B\")\n",
        "elif marks >= 60:\n",
        "    print(\"Grade C\")\n",
        "else:\n",
        "    print(\"Fail\")\n",
        "\n",
        "\n",
        "Here, only the first matching condition (marks >= 75) runs, so output is “Grade B”.\n",
        "\n",
        "\n",
        "13. What is the difference between for and while loops?\n",
        "\n",
        "    - For loop\n",
        "\n",
        "- Used when you know how many times you want to repeat something (or when looping over a collection).\n",
        "\n",
        "- It goes through each item in a sequence (like a list, string, or range).\n",
        "\n",
        "for i in range(5):\n",
        "    print(i)   # prints 0,1,2,3,4\n",
        "\n",
        "    - While loop\n",
        "\n",
        "- Used when you don’t know in advance how many times you’ll loop.\n",
        "\n",
        "- It keeps running as long as a condition is True.\n",
        "\n",
        "x = 0\n",
        "while x < 5:\n",
        "    print(x)\n",
        "    x += 1   # important, or it loops forever\n",
        "\n",
        "14. Describe a scenario where a while loop is more suitable than a for loop.\n",
        "\n",
        "    - A while loop is better when you don’t know ahead of time how many times you’ll need to repeat something.\n",
        "\n",
        "-  Example scenario:\n",
        "Imagine writing a program that keeps asking the user to enter the correct password:\n",
        "\n",
        "password = \"python123\"\n",
        "guess = \"\"\n",
        "\n",
        "while guess != password:\n",
        "    guess = input(\"Enter password: \")\n",
        "\n",
        "print(\"Access granted\")\n",
        "\n",
        "\n",
        "Here, you don’t know if the user will guess it in 1 try or 10 tries. A for loop wouldn’t fit, because you can’t predict the number of attempts.\n"
      ],
      "metadata": {
        "id": "Aq4KfM5zQ2du"
      }
    },
    {
      "cell_type": "markdown",
      "source": [],
      "metadata": {
        "id": "_98LbrboQb62"
      }
    },
    {
      "cell_type": "code",
      "source": [
        "# 1.Write a Python program to print \"Hello, World!\":\n",
        "text = \"Hello world!!\"\n",
        "print(text)\n",
        ""
      ],
      "metadata": {
        "id": "46AnQMmOfI22"
      },
      "execution_count": null,
      "outputs": []
    },
    {
      "cell_type": "markdown",
      "source": [
        "Hello world!!\n"
      ],
      "metadata": {
        "id": "d62QxCVgiBRr"
      }
    },
    {
      "cell_type": "code",
      "source": [
        "# 2. Write a Python program that displays your name and age:\n",
        "Name, Age = \"Singh Ji\", 50\n",
        "print(Name)\n",
        "print(Age)\n"
      ],
      "metadata": {
        "id": "e0xb-CZegDTh"
      },
      "execution_count": null,
      "outputs": []
    },
    {
      "cell_type": "markdown",
      "source": [
        "Singh Ji\n",
        "50"
      ],
      "metadata": {
        "id": "dGXlXHURiS95"
      }
    },
    {
      "cell_type": "code",
      "source": [
        "# 3. Write code to print all the pre-defined keywords in Python using the keyword library:\n",
        "import keyword\n",
        "print(keyword.kwlist)"
      ],
      "metadata": {
        "id": "33QqUn5fj_9I"
      },
      "execution_count": null,
      "outputs": []
    },
    {
      "cell_type": "markdown",
      "source": [
        "['False', 'None', 'True', 'and', 'as', 'assert', 'async', 'await', 'break', 'class', 'continue', 'def', 'del', 'elif', 'else', 'except', 'finally', 'for', 'from', 'global', 'if', 'import', 'in', 'is', 'lambda', 'nonlocal', 'not', 'or', 'pass', 'raise', 'return', 'try', 'while', 'with', 'yield']"
      ],
      "metadata": {
        "id": "qGHI7v-RkHiZ"
      }
    },
    {
      "cell_type": "code",
      "source": [
        "# 4. Write a program that checks if a given word is a Python keyword:\n",
        "import keyword\n",
        "\n",
        "word = input(\"Enter a word to check: \")\n",
        "\n",
        "if keyword.iskeyword(word):\n",
        "  print(f\"'{word}' is a Python keyword.\")\n",
        "else:\n",
        "  print(f\"'{word}' is not a Python keyword.\")"
      ],
      "metadata": {
        "id": "HIgfqjDrgl0b"
      },
      "execution_count": null,
      "outputs": []
    },
    {
      "cell_type": "markdown",
      "source": [
        "Enter a word to check: assert\n",
        "'assert' is a Python keyword."
      ],
      "metadata": {
        "id": "ffqjTgIJkeIF"
      }
    },
    {
      "cell_type": "code",
      "source": [
        "# 5. Create a list and tuple in Python, and demonstrate how attempting to change an element works differently for each:\n",
        "my_list = [1, 2, 3, 4, 5,6,8,9,14,16,32,95]\n",
        "print(\"Original list:\", my_list)\n",
        "\n",
        "# Attempt to change an element in the list\n",
        "try:\n",
        "  my_list[2] = 10\n",
        "  print(\"List after attempting to change an element:\", my_list)\n",
        "except TypeError as e:\n",
        "  print(\"Error changing list element:\", e)\n",
        "\n",
        "print(\"-\" * 20) # Separator\n",
        "\n",
        "# Create a tuple\n",
        "my_tuple = (1, 2, 3, 4, 5, 6)\n",
        "print(\"Original tuple:\", my_tuple)\n",
        "\n",
        "# Attempt to change an element in the tuple\n",
        "try:\n",
        "  my_tuple[2] = 10\n",
        "  print(\"Tuple after attempting to change an element:\", my_tuple)\n",
        "except TypeError as e:\n",
        "  print(\"Error changing tuple element:\", e)"
      ],
      "metadata": {
        "id": "a38OdHjNkRcO"
      },
      "execution_count": null,
      "outputs": []
    },
    {
      "cell_type": "markdown",
      "source": [
        "Original list: [1, 2, 3, 4, 5, 6, 8, 9, 14, 16, 32, 95]\n",
        "List after attempting to change an element: [1, 2, 10, 4, 5, 6, 8, 9, 14, 16, 32, 95]\n",
        "--------------------\n",
        "Original tuple: (1, 2, 3, 4, 5, 6)\n",
        "Error changing tuple element: 'tuple' object does not support item assignment"
      ],
      "metadata": {
        "id": "pUZjtgzjknMW"
      }
    },
    {
      "cell_type": "code",
      "source": [
        "# 6. Write a function to demonstrate the behavior of mutable and immutable arguments:\n",
        "def demonstrate_arguments(mutable_arg, immutable_arg):\n",
        "  print(\"Inside the function:\")\n",
        "  print(\"Mutable argument before modification:\", mutable_arg)\n",
        "  print(\"Immutable argument before modification:\", immutable_arg)\n",
        "\n",
        "  # Attempt to modify the mutable argument\n",
        "  if isinstance(mutable_arg, list):\n",
        "    mutable_arg.append(99)\n",
        "  elif isinstance(mutable_arg, dict):\n",
        "    mutable_arg['new_key'] = 'new_value'\n",
        "\n",
        "  # Attempt to modify the immutable argument (this will create a new object)\n",
        "  immutable_arg = immutable_arg + 10\n",
        "\n",
        "  print(\"Mutable argument after modification:\", mutable_arg)\n",
        "  print(\"Immutable argument after modification:\", immutable_arg)\n",
        "  print(\"-\" * 20)\n",
        "\n",
        "# Demonstrate with a mutable argument (list)\n",
        "my_list = [1, 2, 3]\n",
        "my_int = 10\n",
        "print(\"Outside the function (before call):\")\n",
        "print(\"my_list:\", my_list)\n",
        "print(\"my_int:\", my_int)\n",
        "print(\"-\" * 20)\n",
        "demonstrate_arguments(my_list, my_int)\n",
        "print(\"Outside the function (after call):\")\n",
        "print(\"my_list:\", my_list)\n",
        "print(\"my_int:\", my_int)\n",
        "\n",
        "print(\"=\" * 30)\n",
        "\n",
        "# Demonstrate with another mutable argument (dictionary)\n",
        "my_dict = {'a': 1, 'b': 2}\n",
        "my_float = 20.5\n",
        "print(\"Outside the function (before call):\")\n",
        "print(\"my_dict:\", my_dict)\n",
        "print(\"my_float:\", my_float)\n",
        "print(\"-\" * 20)\n",
        "demonstrate_arguments(my_dict, my_float)\n",
        "print(\"Outside the function (after call):\")\n",
        "print(\"my_dict:\", my_dict)\n",
        "print(\"my_float:\", my_float)"
      ],
      "metadata": {
        "id": "mgEUkUx5kGum"
      },
      "execution_count": null,
      "outputs": []
    },
    {
      "cell_type": "markdown",
      "source": [
        "Outside the function (before call):\n",
        "my_list: [1, 2, 3]\n",
        "my_int: 10\n",
        "--------------------\n",
        "Inside the function:\n",
        "Mutable argument before modification: [1, 2, 3]\n",
        "Immutable argument before modification: 10\n",
        "Mutable argument after modification: [1, 2, 3, 99]\n",
        "Immutable argument after modification: 20\n",
        "--------------------\n",
        "Outside the function (after call):\n",
        "my_list: [1, 2, 3, 99]\n",
        "my_int: 10\n",
        "==============================\n",
        "Outside the function (before call):\n",
        "my_dict: {'a': 1, 'b': 2}\n",
        "my_float: 20.5\n",
        "--------------------\n",
        "Inside the function:\n",
        "Mutable argument before modification: {'a': 1, 'b': 2}\n",
        "Immutable argument before modification: 20.5\n",
        "Mutable argument after modification: {'a': 1, 'b': 2, 'new_key': 'new_value'}\n",
        "Immutable argument after modification: 30.5\n",
        "--------------------\n",
        "Outside the function (after call):\n",
        "my_dict: {'a': 1, 'b': 2, 'new_key': 'new_value'}\n",
        "my_float: 20.5"
      ],
      "metadata": {
        "id": "nVTidkpekz0N"
      }
    },
    {
      "cell_type": "code",
      "source": [
        "\n",
        "# 7. Write a program that performs basic arithmetic operations on two user-input numbers:\n",
        "try:\n",
        "  num1 = float(input(\"Enter the first number: \"))\n",
        "  num2 = float(input(\"Enter the second number: \"))\n",
        "\n",
        "  # Perform arithmetic operations\n",
        "  sum_result = num1 + num2\n",
        "  difference = num1 - num2\n",
        "  product = num1 * num2\n",
        "\n",
        "  # Handle division by zero\n",
        "  if num2 != 0:\n",
        "    division = num1 / num2\n",
        "    print(f\"Sum: {sum_result}\")\n",
        "    print(f\"Difference: {difference}\")\n",
        "    print(f\"Product: {product}\")\n",
        "    print(f\"Division: {division}\")\n",
        "  else:\n",
        "    print(\"Cannot perform division by zero.\")\n",
        "\n",
        "except ValueError:\n",
        "  print(\"Invalid input. Please enter numbers.\")\n",
        ""
      ],
      "metadata": {
        "id": "P9I4En2lk4vT"
      },
      "execution_count": null,
      "outputs": []
    },
    {
      "cell_type": "markdown",
      "source": [
        "Enter the first number: 12.5\n",
        "Enter the second number: 23.7\n",
        "Sum: 36.2\n",
        "Difference: -11.2\n",
        "Product: 296.25\n",
        "Division: 0.5274261603375527"
      ],
      "metadata": {
        "id": "OM5b1XDSk_Xh"
      }
    },
    {
      "cell_type": "code",
      "source": [
        "# 8. Write a program to demonstrate the use of logical operators:\n",
        "print(\"Demonstrating the 'and' operator:\")\n",
        "x = 10\n",
        "y = 20\n",
        "if x > 5 and y < 25:\n",
        "  print(\"Both conditions are true.\")\n",
        "else:\n",
        "  print(\"At least one condition is false.\")\n",
        "\n",
        "print(\"-\" * 20)\n",
        "\n",
        "# Demonstrate the 'or' operator\n",
        "print(\"Demonstrating the 'or' operator:\")\n",
        "a = 5\n",
        "b = 15\n",
        "if a < 10 or b > 20:\n",
        "  print(\"At least one condition is true.\")\n",
        "else:\n",
        "  print(\"Both conditions are false.\")\n",
        "\n",
        "print(\"-\" * 20)\n",
        "\n",
        "# Demonstrate the 'not' operator\n",
        "print(\"Demonstrating the 'not' operator:\")\n",
        "is_sunny = False\n",
        "if not is_sunny:\n",
        "  print(\"It is not prince.\")\n",
        "else:\n",
        "  print(\"It is prince.\")\n",
        ""
      ],
      "metadata": {
        "id": "ex0YAp7ElDbO"
      },
      "execution_count": null,
      "outputs": []
    },
    {
      "cell_type": "markdown",
      "source": [
        "Demonstrating the 'and' operator:\n",
        "Both conditions are true.\n",
        "--------------------\n",
        "Demonstrating the 'or' operator:\n",
        "At least one condition is true.\n",
        "--------------------\n",
        "Demonstrating the 'not' operator:\n",
        "It is not prince."
      ],
      "metadata": {
        "id": "xn_eVi1ElIQL"
      }
    },
    {
      "cell_type": "code",
      "source": [
        "\n",
        "# 9. Write a Python program to convert user input from string to integer, float, and boolean types\n",
        "user_input = input(\"Enter a value: \")\n",
        "\n",
        "print(f\"You entered: '{user_input}' (Type: {type(user_input)})\")\n",
        "\n",
        "# Convert to integer\n",
        "try:\n",
        "  int_value = int(user_input)\n",
        "  print(f\"Converted to integer: {int_value} (Type: {type(int_value)})\")\n",
        "except ValueError:\n",
        "  print(f\"Could not convert '{user_input}' to integer.\")\n",
        "\n",
        "# Convert to float\n",
        "try:\n",
        "  float_value = float(user_input)\n",
        "  print(f\"Converted to float: {float_value} (Type: {type(float_value)})\")\n",
        "except ValueError:\n",
        "  print(f\"Could not convert '{user_input}' to float.\")\n",
        "\n",
        "# Convert to boolean (simple check for common boolean representations)\n",
        "# Note: More robust boolean conversion might be needed for different use cases\n",
        "boolean_value = user_input.lower() in ['true', '1', 'yes']\n",
        "print(f\"Interpreted as boolean: {boolean_value} (Type: {type(boolean_value)})\")"
      ],
      "metadata": {
        "id": "Y3jNeGh0lL8F"
      },
      "execution_count": null,
      "outputs": []
    },
    {
      "cell_type": "markdown",
      "source": [
        "Enter a value: 100\n",
        "You entered: '100' (Type: <class 'str'>)\n",
        "Converted to integer: 100 (Type: <class 'int'>)\n",
        "Converted to float: 100.0 (Type: <class 'float'>)\n",
        "Interpreted as boolean: False (Type: <class 'bool'>)"
      ],
      "metadata": {
        "id": "a7F0tRYglPqj"
      }
    },
    {
      "cell_type": "code",
      "source": [
        "# 10.Write code to demonstrate type casting with list elements:\n",
        "my_list = [\"1\", 2, \"3.5\", 4.0, \"True\" , \"False\"]\n",
        "print(\"Original list:\", my_list)\n",
        "print(\"-\" * 20)\n",
        "\n",
        "# Demonstrate type casting with list elements\n",
        "# Convert the first element (string \"1\") to an integer\n",
        "try:\n",
        "  my_list[0] = int(my_list[0])\n",
        "  print(\"After converting first element to integer:\", my_list)\n",
        "except ValueError:\n",
        "  print(f\"Could not convert '{my_list[0]}' to integer.\")\n",
        "\n",
        "# Convert the third element (string \"3.5\") to a float\n",
        "try:\n",
        "  my_list[2] = float(my_list[2])\n",
        "  print(\"After converting third element to float:\", my_list)\n",
        "except ValueError:\n",
        "  print(f\"Could not convert '{my_list[2]}' to float.\")\n",
        "\n",
        "# Convert the fifth element (string \"True\") to a boolean\n",
        "# Note: This is a simple example. For more complex string to boolean conversion,\n",
        "# you might need a more robust approach.\n",
        "if isinstance(my_list[4], str):\n",
        "    my_list[4] = my_list[4].lower() == 'true'\n",
        "    print(\"After converting fifth element to boolean:\", my_list)\n",
        "else:\n",
        "    print(f\"Element at index 4 is not a string and cannot be converted to boolean in this example: {my_list[4]}\")\n",
        "\n",
        "# Convert the second element (integer 2) to a string\n",
        "try:\n",
        "  my_list[1] = str(my_list[1])\n",
        "  print(\"After converting second element to string:\", my_list)\n",
        "except ValueError:\n",
        "  print(f\"Could not convert '{my_list[1]}' to string.\")\n",
        "\n",
        "print(\"-\" * 20)\n",
        "print(\"Final list:\", my_list)\n",
        ""
      ],
      "metadata": {
        "id": "lv5lxIBFlSig"
      },
      "execution_count": null,
      "outputs": []
    },
    {
      "cell_type": "markdown",
      "source": [
        "Original list: ['1', 2, '3.5', 4.0, 'True', 'False']\n",
        "--------------------\n",
        "After converting first element to integer: [1, 2, '3.5', 4.0, 'True', 'False']\n",
        "After converting third element to float: [1, 2, 3.5, 4.0, 'True', 'False']\n",
        "After converting fifth element to boolean: [1, 2, 3.5, 4.0, True, 'False']\n",
        "After converting second element to string: [1, '2', 3.5, 4.0, True, 'False']\n",
        "--------------------\n",
        "Final list: [1, '2', 3.5, 4.0, True, 'False']"
      ],
      "metadata": {
        "id": "JI5yPxKSlYTS"
      }
    },
    {
      "cell_type": "code",
      "source": [
        "# 11. Write a program that checks if a number is positive, negative, or zero:\n",
        "try:\n",
        "  num = float(input(\"Enter a number: \"))\n",
        "\n",
        "  if num > 0:\n",
        "    print(\"The number is positive.\")\n",
        "  elif num < 0:\n",
        "    print(\"The number is negative.\")\n",
        "  else:\n",
        "    print(\"The number is zero.\")\n",
        "\n",
        "except ValueError:\n",
        "  print(\"Invalid input. Please enter a valid number.\")"
      ],
      "metadata": {
        "id": "2l73SM_Klb-n"
      },
      "execution_count": null,
      "outputs": []
    },
    {
      "cell_type": "markdown",
      "source": [
        "Enter a number: 22\n",
        "The number is positive."
      ],
      "metadata": {
        "id": "ziD20cKqlfhG"
      }
    },
    {
      "cell_type": "code",
      "source": [
        "# 12.Write a for loop to print numbers from 1 to 10:\n",
        "for i in range(1, 11):\n",
        "  print(i)"
      ],
      "metadata": {
        "id": "lL0xnmx-liUn"
      },
      "execution_count": null,
      "outputs": []
    },
    {
      "cell_type": "markdown",
      "source": [
        "1\n",
        "2\n",
        "3\n",
        "4\n",
        "5\n",
        "6\n",
        "7\n",
        "8\n",
        "9\n",
        "10"
      ],
      "metadata": {
        "id": "64YwqO-illtD"
      }
    },
    {
      "cell_type": "code",
      "source": [
        "# 13.Write a Python program to find the sum of all even numbers between 1 and 50:\n",
        "sum_of_evens = 0\n",
        "for number in range(1, 51):\n",
        "  if number % 2 == 0:\n",
        "    sum_of_evens += number\n",
        "\n",
        "print(f\"The sum of all even numbers between 1 and 50 is: {sum_of_evens}\")"
      ],
      "metadata": {
        "id": "Pr-k4BdWlpmF"
      },
      "execution_count": null,
      "outputs": []
    },
    {
      "cell_type": "markdown",
      "source": [
        "The sum of all even numbers between 1 and 50 is: 650"
      ],
      "metadata": {
        "id": "83S_P82NlthQ"
      }
    },
    {
      "cell_type": "code",
      "source": [
        "# 14.Write a program to reverse a string using a while loop:\n",
        "input_string = input(\"Enter a string to reverse: \")\n",
        "reversed_string = \"\"\n",
        "index = len(input_string) - 1\n",
        "\n",
        "while index >= 0:\n",
        "  reversed_string += input_string[index]\n",
        "  index -= 1\n",
        "\n",
        "print(f\"The reversed string is: {reversed_string}\")\n",
        ""
      ],
      "metadata": {
        "id": "vXbJOrRslwi6"
      },
      "execution_count": null,
      "outputs": []
    },
    {
      "cell_type": "markdown",
      "source": [
        "Enter a string to reverse: pranshu\n",
        "The reversed string is: uhsnarp"
      ],
      "metadata": {
        "id": "lMpgu2xIl0Yv"
      }
    },
    {
      "cell_type": "code",
      "source": [
        "# 15. Write a Python program to calculate the factorial of a number provided by the user using a while loop:\n",
        "num = int(input(\"Enter a non-negative integer: \"))\n",
        "\n",
        "if num < 0:\n",
        "   print(\"Factorial does not exist for negative numbers\")\n",
        "elif num == 0:\n",
        "   print(\"The factorial of 0 is 1\")\n",
        "else:\n",
        "   factorial = 1\n",
        "   i = 1\n",
        "   while i <= num:\n",
        "       factorial = factorial * i\n",
        "       i = i + 1\n",
        "   print(f\"The factorial of {num} is {factorial}\")\n",
        ""
      ],
      "metadata": {
        "id": "pwkLA4_sl3OS"
      },
      "execution_count": null,
      "outputs": []
    },
    {
      "cell_type": "markdown",
      "source": [
        "Enter a non-negative integer: 12\n",
        "The factorial of 12 is 479001600"
      ],
      "metadata": {
        "id": "3wl7qEMXl6vI"
      }
    }
  ]
}